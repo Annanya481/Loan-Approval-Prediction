{
 "cells": [
  {
   "cell_type": "markdown",
   "id": "c328ad55",
   "metadata": {},
   "source": [
    "# Loan Approval Prediction System"
   ]
  },
  {
   "cell_type": "markdown",
   "id": "5f63be1b",
   "metadata": {},
   "source": [
    "## Import required packages and dataset "
   ]
  },
  {
   "cell_type": "code",
   "execution_count": 1,
   "id": "e2d011d4",
   "metadata": {},
   "outputs": [],
   "source": [
    "import pandas as pd\n",
    "import numpy as np\n",
    "from sklearn import preprocessing\n",
    "from sklearn.model_selection import train_test_split"
   ]
  },
  {
   "cell_type": "code",
   "execution_count": 2,
   "id": "c5472876",
   "metadata": {},
   "outputs": [],
   "source": [
    "df = pd.read_json(\"loan_data.json\")"
   ]
  },
  {
   "cell_type": "code",
   "execution_count": 3,
   "id": "46a549ad",
   "metadata": {},
   "outputs": [
    {
     "data": {
      "text/html": [
       "<div>\n",
       "<style scoped>\n",
       "    .dataframe tbody tr th:only-of-type {\n",
       "        vertical-align: middle;\n",
       "    }\n",
       "\n",
       "    .dataframe tbody tr th {\n",
       "        vertical-align: top;\n",
       "    }\n",
       "\n",
       "    .dataframe thead th {\n",
       "        text-align: right;\n",
       "    }\n",
       "</style>\n",
       "<table border=\"1\" class=\"dataframe\">\n",
       "  <thead>\n",
       "    <tr style=\"text-align: right;\">\n",
       "      <th></th>\n",
       "      <th>Application_ID</th>\n",
       "      <th>Gender</th>\n",
       "      <th>Married</th>\n",
       "      <th>Dependents</th>\n",
       "      <th>Education</th>\n",
       "      <th>Self_Employed</th>\n",
       "      <th>Credit_History</th>\n",
       "      <th>Property_Area</th>\n",
       "      <th>Income</th>\n",
       "      <th>Application_Status</th>\n",
       "    </tr>\n",
       "  </thead>\n",
       "  <tbody>\n",
       "    <tr>\n",
       "      <th>0</th>\n",
       "      <td>LP001002</td>\n",
       "      <td>Male</td>\n",
       "      <td>No</td>\n",
       "      <td>0</td>\n",
       "      <td>Graduate</td>\n",
       "      <td>No</td>\n",
       "      <td>1</td>\n",
       "      <td>Urban</td>\n",
       "      <td>medium</td>\n",
       "      <td>Y</td>\n",
       "    </tr>\n",
       "    <tr>\n",
       "      <th>1</th>\n",
       "      <td>LP001003</td>\n",
       "      <td>Male</td>\n",
       "      <td>Yes</td>\n",
       "      <td>1</td>\n",
       "      <td>Graduate</td>\n",
       "      <td>No</td>\n",
       "      <td>1</td>\n",
       "      <td>Rural</td>\n",
       "      <td>medium</td>\n",
       "      <td>N</td>\n",
       "    </tr>\n",
       "    <tr>\n",
       "      <th>2</th>\n",
       "      <td>LP001005</td>\n",
       "      <td>Male</td>\n",
       "      <td>Yes</td>\n",
       "      <td>0</td>\n",
       "      <td>Graduate</td>\n",
       "      <td>Yes</td>\n",
       "      <td>1</td>\n",
       "      <td>Urban</td>\n",
       "      <td>low</td>\n",
       "      <td>Y</td>\n",
       "    </tr>\n",
       "    <tr>\n",
       "      <th>3</th>\n",
       "      <td>LP001006</td>\n",
       "      <td>Male</td>\n",
       "      <td>Yes</td>\n",
       "      <td>0</td>\n",
       "      <td>Not Graduate</td>\n",
       "      <td>No</td>\n",
       "      <td>1</td>\n",
       "      <td>Urban</td>\n",
       "      <td>low</td>\n",
       "      <td>Y</td>\n",
       "    </tr>\n",
       "    <tr>\n",
       "      <th>4</th>\n",
       "      <td>LP001008</td>\n",
       "      <td>Male</td>\n",
       "      <td>No</td>\n",
       "      <td>0</td>\n",
       "      <td>Graduate</td>\n",
       "      <td>No</td>\n",
       "      <td>1</td>\n",
       "      <td>Urban</td>\n",
       "      <td>medium</td>\n",
       "      <td>Y</td>\n",
       "    </tr>\n",
       "    <tr>\n",
       "      <th>...</th>\n",
       "      <td>...</td>\n",
       "      <td>...</td>\n",
       "      <td>...</td>\n",
       "      <td>...</td>\n",
       "      <td>...</td>\n",
       "      <td>...</td>\n",
       "      <td>...</td>\n",
       "      <td>...</td>\n",
       "      <td>...</td>\n",
       "      <td>...</td>\n",
       "    </tr>\n",
       "    <tr>\n",
       "      <th>506</th>\n",
       "      <td>LP002978</td>\n",
       "      <td>Female</td>\n",
       "      <td>No</td>\n",
       "      <td>0</td>\n",
       "      <td>Graduate</td>\n",
       "      <td>No</td>\n",
       "      <td>1</td>\n",
       "      <td>Rural</td>\n",
       "      <td>low</td>\n",
       "      <td>Y</td>\n",
       "    </tr>\n",
       "    <tr>\n",
       "      <th>507</th>\n",
       "      <td>LP002979</td>\n",
       "      <td>Male</td>\n",
       "      <td>Yes</td>\n",
       "      <td>3+</td>\n",
       "      <td>Graduate</td>\n",
       "      <td>No</td>\n",
       "      <td>1</td>\n",
       "      <td>Rural</td>\n",
       "      <td>medium</td>\n",
       "      <td>Y</td>\n",
       "    </tr>\n",
       "    <tr>\n",
       "      <th>508</th>\n",
       "      <td>LP002983</td>\n",
       "      <td>Male</td>\n",
       "      <td>Yes</td>\n",
       "      <td>1</td>\n",
       "      <td>Graduate</td>\n",
       "      <td>No</td>\n",
       "      <td>1</td>\n",
       "      <td>Urban</td>\n",
       "      <td>medium</td>\n",
       "      <td>Y</td>\n",
       "    </tr>\n",
       "    <tr>\n",
       "      <th>509</th>\n",
       "      <td>LP002984</td>\n",
       "      <td>Male</td>\n",
       "      <td>Yes</td>\n",
       "      <td>2</td>\n",
       "      <td>Graduate</td>\n",
       "      <td>No</td>\n",
       "      <td>1</td>\n",
       "      <td>Urban</td>\n",
       "      <td>medium</td>\n",
       "      <td>Y</td>\n",
       "    </tr>\n",
       "    <tr>\n",
       "      <th>510</th>\n",
       "      <td>LP002990</td>\n",
       "      <td>Female</td>\n",
       "      <td>No</td>\n",
       "      <td>0</td>\n",
       "      <td>Graduate</td>\n",
       "      <td>Yes</td>\n",
       "      <td>0</td>\n",
       "      <td>Semiurban</td>\n",
       "      <td>medium</td>\n",
       "      <td>N</td>\n",
       "    </tr>\n",
       "  </tbody>\n",
       "</table>\n",
       "<p>511 rows × 10 columns</p>\n",
       "</div>"
      ],
      "text/plain": [
       "    Application_ID  Gender Married Dependents     Education Self_Employed  \\\n",
       "0         LP001002    Male      No          0      Graduate            No   \n",
       "1         LP001003    Male     Yes          1      Graduate            No   \n",
       "2         LP001005    Male     Yes          0      Graduate           Yes   \n",
       "3         LP001006    Male     Yes          0  Not Graduate            No   \n",
       "4         LP001008    Male      No          0      Graduate            No   \n",
       "..             ...     ...     ...        ...           ...           ...   \n",
       "506       LP002978  Female      No          0      Graduate            No   \n",
       "507       LP002979    Male     Yes         3+      Graduate            No   \n",
       "508       LP002983    Male     Yes          1      Graduate            No   \n",
       "509       LP002984    Male     Yes          2      Graduate            No   \n",
       "510       LP002990  Female      No          0      Graduate           Yes   \n",
       "\n",
       "     Credit_History Property_Area  Income Application_Status  \n",
       "0                 1         Urban  medium                  Y  \n",
       "1                 1         Rural  medium                  N  \n",
       "2                 1         Urban     low                  Y  \n",
       "3                 1         Urban     low                  Y  \n",
       "4                 1         Urban  medium                  Y  \n",
       "..              ...           ...     ...                ...  \n",
       "506               1         Rural     low                  Y  \n",
       "507               1         Rural  medium                  Y  \n",
       "508               1         Urban  medium                  Y  \n",
       "509               1         Urban  medium                  Y  \n",
       "510               0     Semiurban  medium                  N  \n",
       "\n",
       "[511 rows x 10 columns]"
      ]
     },
     "execution_count": 3,
     "metadata": {},
     "output_type": "execute_result"
    }
   ],
   "source": [
    "df"
   ]
  },
  {
   "cell_type": "code",
   "execution_count": 4,
   "id": "904dd112",
   "metadata": {},
   "outputs": [
    {
     "name": "stdout",
     "output_type": "stream",
     "text": [
      "<class 'pandas.core.frame.DataFrame'>\n",
      "RangeIndex: 511 entries, 0 to 510\n",
      "Data columns (total 10 columns):\n",
      " #   Column              Non-Null Count  Dtype \n",
      "---  ------              --------------  ----- \n",
      " 0   Application_ID      511 non-null    object\n",
      " 1   Gender              511 non-null    object\n",
      " 2   Married             511 non-null    object\n",
      " 3   Dependents          511 non-null    object\n",
      " 4   Education           511 non-null    object\n",
      " 5   Self_Employed       511 non-null    object\n",
      " 6   Credit_History      511 non-null    int64 \n",
      " 7   Property_Area       511 non-null    object\n",
      " 8   Income              511 non-null    object\n",
      " 9   Application_Status  511 non-null    object\n",
      "dtypes: int64(1), object(9)\n",
      "memory usage: 40.0+ KB\n"
     ]
    }
   ],
   "source": [
    "df.info()"
   ]
  },
  {
   "cell_type": "code",
   "execution_count": 5,
   "id": "6d23dee3",
   "metadata": {},
   "outputs": [
    {
     "data": {
      "text/plain": [
       "array(['0', '1', '2', '3+'], dtype=object)"
      ]
     },
     "execution_count": 5,
     "metadata": {},
     "output_type": "execute_result"
    }
   ],
   "source": [
    "df['Dependents'].unique()"
   ]
  },
  {
   "cell_type": "markdown",
   "id": "e81ef7d1",
   "metadata": {},
   "source": [
    "## Percentage of total applicants for each unique value of dependents"
   ]
  },
  {
   "cell_type": "code",
   "execution_count": 6,
   "id": "92185b4b",
   "metadata": {},
   "outputs": [
    {
     "data": {
      "text/plain": [
       "0     57.534247\n",
       "2     17.221135\n",
       "1     16.634051\n",
       "3+     8.610568\n",
       "Name: Dependents, dtype: float64"
      ]
     },
     "execution_count": 6,
     "metadata": {},
     "output_type": "execute_result"
    }
   ],
   "source": [
    "df['Dependents'].value_counts(normalize=True)*100"
   ]
  },
  {
   "cell_type": "markdown",
   "id": "40bf5e0f",
   "metadata": {},
   "source": [
    "## Average number of dependents per applicant "
   ]
  },
  {
   "cell_type": "code",
   "execution_count": 7,
   "id": "df35c68e",
   "metadata": {},
   "outputs": [
    {
     "data": {
      "text/plain": [
       "Dependents\n",
       "0     294\n",
       "1      85\n",
       "2      88\n",
       "3+     44\n",
       "Name: Application_ID, dtype: int64"
      ]
     },
     "execution_count": 7,
     "metadata": {},
     "output_type": "execute_result"
    }
   ],
   "source": [
    "df.groupby('Dependents')['Application_ID'].count()"
   ]
  },
  {
   "cell_type": "code",
   "execution_count": 8,
   "id": "cda379b1",
   "metadata": {},
   "outputs": [],
   "source": [
    "df_dependents_group = df.groupby('Dependents')['Application_ID'].count() / 4"
   ]
  },
  {
   "cell_type": "code",
   "execution_count": 9,
   "id": "8aba9e97",
   "metadata": {},
   "outputs": [
    {
     "data": {
      "text/plain": [
       "Dependents\n",
       "0     73.50\n",
       "1     21.25\n",
       "2     22.00\n",
       "3+    11.00\n",
       "Name: Application_ID, dtype: float64"
      ]
     },
     "execution_count": 9,
     "metadata": {},
     "output_type": "execute_result"
    }
   ],
   "source": [
    "df_dependents_group"
   ]
  },
  {
   "cell_type": "markdown",
   "id": "4fa69e91",
   "metadata": {},
   "source": [
    "## Percentage of applications approved for self-employed applicants "
   ]
  },
  {
   "cell_type": "code",
   "execution_count": 10,
   "id": "5197df39",
   "metadata": {},
   "outputs": [
    {
     "data": {
      "text/plain": [
       "No     441\n",
       "Yes     70\n",
       "Name: Self_Employed, dtype: int64"
      ]
     },
     "execution_count": 10,
     "metadata": {},
     "output_type": "execute_result"
    }
   ],
   "source": [
    "df.Self_Employed.value_counts()"
   ]
  },
  {
   "cell_type": "code",
   "execution_count": 11,
   "id": "fb9d6c07",
   "metadata": {},
   "outputs": [
    {
     "data": {
      "text/plain": [
       "Self_Employed  Application_Status\n",
       "No             N                     140\n",
       "               Y                     301\n",
       "Yes            N                      24\n",
       "               Y                      46\n",
       "dtype: int64"
      ]
     },
     "execution_count": 11,
     "metadata": {},
     "output_type": "execute_result"
    }
   ],
   "source": [
    "df.groupby(['Self_Employed', 'Application_Status']).size()"
   ]
  },
  {
   "cell_type": "code",
   "execution_count": 12,
   "id": "65186108",
   "metadata": {},
   "outputs": [
    {
     "data": {
      "text/plain": [
       "Self_Employed  Application_Status\n",
       "No             N                     27.397260\n",
       "               Y                     58.904110\n",
       "Yes            N                      4.696673\n",
       "               Y                      9.001957\n",
       "dtype: float64"
      ]
     },
     "execution_count": 12,
     "metadata": {},
     "output_type": "execute_result"
    }
   ],
   "source": [
    "df.groupby(['Self_Employed', 'Application_Status']).size()/sum(df.groupby(['Self_Employed', 'Application_Status']).size()) * 100"
   ]
  },
  {
   "cell_type": "code",
   "execution_count": 13,
   "id": "88ac9da0",
   "metadata": {},
   "outputs": [
    {
     "data": {
      "text/plain": [
       "Self_Employed  Application_Status\n",
       "No             N                     27.397260\n",
       "               Y                     58.904110\n",
       "Yes            N                      4.696673\n",
       "               Y                      9.001957\n",
       "dtype: float64"
      ]
     },
     "execution_count": 13,
     "metadata": {},
     "output_type": "execute_result"
    }
   ],
   "source": [
    "df.groupby(['Self_Employed', 'Application_Status']).size()/sum(df.groupby(['Self_Employed', 'Application_Status']).size()) * 100"
   ]
  },
  {
   "cell_type": "code",
   "execution_count": 14,
   "id": "34da702c",
   "metadata": {},
   "outputs": [],
   "source": [
    "df_self_employed_approved = df.groupby(['Self_Employed', 'Application_Status']).size()[3]/sum(df.groupby(['Self_Employed', 'Application_Status']).size()) * 100"
   ]
  },
  {
   "cell_type": "code",
   "execution_count": 15,
   "id": "a8dba60c",
   "metadata": {},
   "outputs": [
    {
     "data": {
      "text/plain": [
       "9.001956947162427"
      ]
     },
     "execution_count": 15,
     "metadata": {},
     "output_type": "execute_result"
    }
   ],
   "source": [
    "df_self_employed_approved"
   ]
  },
  {
   "cell_type": "markdown",
   "id": "41fd8221",
   "metadata": {},
   "source": [
    "## Percentage of rejections for married male applicants "
   ]
  },
  {
   "cell_type": "code",
   "execution_count": 16,
   "id": "d5a73cbb",
   "metadata": {},
   "outputs": [
    {
     "data": {
      "text/plain": [
       "Gender  Married  Application_Status\n",
       "Female  No       N                      26\n",
       "                 Y                      40\n",
       "        Yes      N                       8\n",
       "                 Y                      17\n",
       "Male    No       N                      43\n",
       "                 Y                      71\n",
       "        Yes      N                      87\n",
       "                 Y                     219\n",
       "dtype: int64"
      ]
     },
     "execution_count": 16,
     "metadata": {},
     "output_type": "execute_result"
    }
   ],
   "source": [
    "df.groupby(['Gender', 'Married', 'Application_Status']).size()"
   ]
  },
  {
   "cell_type": "code",
   "execution_count": 17,
   "id": "aebacbdc",
   "metadata": {},
   "outputs": [
    {
     "data": {
      "text/plain": [
       "Gender  Married  Application_Status\n",
       "Female  No       N                      5.088063\n",
       "                 Y                      7.827789\n",
       "        Yes      N                      1.565558\n",
       "                 Y                      3.326810\n",
       "Male    No       N                      8.414873\n",
       "                 Y                     13.894325\n",
       "        Yes      N                     17.025440\n",
       "                 Y                     42.857143\n",
       "dtype: float64"
      ]
     },
     "execution_count": 17,
     "metadata": {},
     "output_type": "execute_result"
    }
   ],
   "source": [
    "df.groupby(['Gender', 'Married', 'Application_Status']).size()/sum(df.groupby(['Gender', 'Married', 'Application_Status']).size()) * 100"
   ]
  },
  {
   "cell_type": "code",
   "execution_count": 18,
   "id": "7e962824",
   "metadata": {},
   "outputs": [],
   "source": [
    "df_male_married_rejected = df.groupby(['Gender', 'Married', 'Application_Status']).size()[6]/sum(df.groupby(['Gender', 'Married']).size()) * 100"
   ]
  },
  {
   "cell_type": "code",
   "execution_count": 19,
   "id": "389721dd",
   "metadata": {},
   "outputs": [
    {
     "data": {
      "text/plain": [
       "17.025440313111545"
      ]
     },
     "execution_count": 19,
     "metadata": {},
     "output_type": "execute_result"
    }
   ],
   "source": [
    "df_male_married_rejected"
   ]
  },
  {
   "cell_type": "markdown",
   "id": "cb6b03f6",
   "metadata": {},
   "source": [
    "## Property area has the maximum approval ratio "
   ]
  },
  {
   "cell_type": "code",
   "execution_count": 20,
   "id": "fdb7c055",
   "metadata": {},
   "outputs": [
    {
     "data": {
      "text/plain": [
       "Property_Area\n",
       "Rural         90\n",
       "Semiurban    153\n",
       "Urban        104\n",
       "Name: Application_Status, dtype: int64"
      ]
     },
     "execution_count": 20,
     "metadata": {},
     "output_type": "execute_result"
    }
   ],
   "source": [
    "df_approval_area_count = df.groupby(df.loc[df['Application_Status']=='Y']['Property_Area'])\n",
    "df_approval_area_count['Application_Status'].count()"
   ]
  },
  {
   "cell_type": "code",
   "execution_count": 21,
   "id": "a78066e9",
   "metadata": {},
   "outputs": [
    {
     "data": {
      "text/plain": [
       "Property_Area\n",
       "Rural        59\n",
       "Semiurban    44\n",
       "Urban        61\n",
       "Name: Application_Status, dtype: int64"
      ]
     },
     "execution_count": 21,
     "metadata": {},
     "output_type": "execute_result"
    }
   ],
   "source": [
    "df_rejection_area_count = df.groupby(df.loc[df['Application_Status']=='N']['Property_Area'])\n",
    "df_rejection_area_count['Application_Status'].count()"
   ]
  },
  {
   "cell_type": "code",
   "execution_count": 22,
   "id": "641db12d",
   "metadata": {},
   "outputs": [],
   "source": [
    "df_approval_ratio = df_approval_area_count['Application_Status'].count() / (df_approval_area_count['Application_Status'].count() + df_rejection_area_count['Application_Status'].count())"
   ]
  },
  {
   "cell_type": "code",
   "execution_count": 23,
   "id": "6c14a436",
   "metadata": {},
   "outputs": [
    {
     "name": "stdout",
     "output_type": "stream",
     "text": [
      "Maximum Area 'Semiurban' Ratio '0.7766497461928934'\n"
     ]
    }
   ],
   "source": [
    "df_max_approval = df_approval_ratio.max()\n",
    "df_max_approval_ratio = df_approval_ratio.idxmax()\n",
    "print(\"Maximum Area '{}' Ratio '{}'\".format(df_max_approval_ratio,df_max_approval))"
   ]
  },
  {
   "cell_type": "markdown",
   "id": "057a74d6",
   "metadata": {},
   "source": [
    "## Average number of dependents per income group "
   ]
  },
  {
   "cell_type": "code",
   "execution_count": 24,
   "id": "aa7c2e94",
   "metadata": {},
   "outputs": [
    {
     "data": {
      "text/plain": [
       "Dependents\n",
       "0     294\n",
       "1      85\n",
       "2      88\n",
       "3+     44\n",
       "Name: Income, dtype: int64"
      ]
     },
     "execution_count": 24,
     "metadata": {},
     "output_type": "execute_result"
    }
   ],
   "source": [
    "df.groupby('Dependents')['Income'].count()"
   ]
  },
  {
   "cell_type": "code",
   "execution_count": 25,
   "id": "6de4a9d4",
   "metadata": {},
   "outputs": [],
   "source": [
    "df_dependents_income_group = df.groupby('Dependents')['Income'].count() / 4"
   ]
  },
  {
   "cell_type": "code",
   "execution_count": 26,
   "id": "4d0f38bc",
   "metadata": {},
   "outputs": [
    {
     "data": {
      "text/plain": [
       "Dependents\n",
       "0     73.50\n",
       "1     21.25\n",
       "2     22.00\n",
       "3+    11.00\n",
       "Name: Income, dtype: float64"
      ]
     },
     "execution_count": 26,
     "metadata": {},
     "output_type": "execute_result"
    }
   ],
   "source": [
    "df_dependents_income_group"
   ]
  },
  {
   "cell_type": "markdown",
   "id": "67cb0b66",
   "metadata": {},
   "source": [
    "## Simple predictive model to assess whether a loan application will be approved or rejected "
   ]
  },
  {
   "cell_type": "code",
   "execution_count": 27,
   "id": "12b59b91",
   "metadata": {},
   "outputs": [
    {
     "data": {
      "text/html": [
       "<div>\n",
       "<style scoped>\n",
       "    .dataframe tbody tr th:only-of-type {\n",
       "        vertical-align: middle;\n",
       "    }\n",
       "\n",
       "    .dataframe tbody tr th {\n",
       "        vertical-align: top;\n",
       "    }\n",
       "\n",
       "    .dataframe thead th {\n",
       "        text-align: right;\n",
       "    }\n",
       "</style>\n",
       "<table border=\"1\" class=\"dataframe\">\n",
       "  <thead>\n",
       "    <tr style=\"text-align: right;\">\n",
       "      <th></th>\n",
       "      <th>Application_ID</th>\n",
       "      <th>Gender</th>\n",
       "      <th>Married</th>\n",
       "      <th>Dependents</th>\n",
       "      <th>Education</th>\n",
       "      <th>Self_Employed</th>\n",
       "      <th>Credit_History</th>\n",
       "      <th>Property_Area</th>\n",
       "      <th>Income</th>\n",
       "      <th>Application_Status</th>\n",
       "    </tr>\n",
       "  </thead>\n",
       "  <tbody>\n",
       "    <tr>\n",
       "      <th>0</th>\n",
       "      <td>LP001002</td>\n",
       "      <td>Male</td>\n",
       "      <td>No</td>\n",
       "      <td>0</td>\n",
       "      <td>Graduate</td>\n",
       "      <td>No</td>\n",
       "      <td>1</td>\n",
       "      <td>Urban</td>\n",
       "      <td>medium</td>\n",
       "      <td>Y</td>\n",
       "    </tr>\n",
       "    <tr>\n",
       "      <th>1</th>\n",
       "      <td>LP001003</td>\n",
       "      <td>Male</td>\n",
       "      <td>Yes</td>\n",
       "      <td>1</td>\n",
       "      <td>Graduate</td>\n",
       "      <td>No</td>\n",
       "      <td>1</td>\n",
       "      <td>Rural</td>\n",
       "      <td>medium</td>\n",
       "      <td>N</td>\n",
       "    </tr>\n",
       "    <tr>\n",
       "      <th>2</th>\n",
       "      <td>LP001005</td>\n",
       "      <td>Male</td>\n",
       "      <td>Yes</td>\n",
       "      <td>0</td>\n",
       "      <td>Graduate</td>\n",
       "      <td>Yes</td>\n",
       "      <td>1</td>\n",
       "      <td>Urban</td>\n",
       "      <td>low</td>\n",
       "      <td>Y</td>\n",
       "    </tr>\n",
       "    <tr>\n",
       "      <th>3</th>\n",
       "      <td>LP001006</td>\n",
       "      <td>Male</td>\n",
       "      <td>Yes</td>\n",
       "      <td>0</td>\n",
       "      <td>Not Graduate</td>\n",
       "      <td>No</td>\n",
       "      <td>1</td>\n",
       "      <td>Urban</td>\n",
       "      <td>low</td>\n",
       "      <td>Y</td>\n",
       "    </tr>\n",
       "    <tr>\n",
       "      <th>4</th>\n",
       "      <td>LP001008</td>\n",
       "      <td>Male</td>\n",
       "      <td>No</td>\n",
       "      <td>0</td>\n",
       "      <td>Graduate</td>\n",
       "      <td>No</td>\n",
       "      <td>1</td>\n",
       "      <td>Urban</td>\n",
       "      <td>medium</td>\n",
       "      <td>Y</td>\n",
       "    </tr>\n",
       "  </tbody>\n",
       "</table>\n",
       "</div>"
      ],
      "text/plain": [
       "  Application_ID Gender Married Dependents     Education Self_Employed  \\\n",
       "0       LP001002   Male      No          0      Graduate            No   \n",
       "1       LP001003   Male     Yes          1      Graduate            No   \n",
       "2       LP001005   Male     Yes          0      Graduate           Yes   \n",
       "3       LP001006   Male     Yes          0  Not Graduate            No   \n",
       "4       LP001008   Male      No          0      Graduate            No   \n",
       "\n",
       "   Credit_History Property_Area  Income Application_Status  \n",
       "0               1         Urban  medium                  Y  \n",
       "1               1         Rural  medium                  N  \n",
       "2               1         Urban     low                  Y  \n",
       "3               1         Urban     low                  Y  \n",
       "4               1         Urban  medium                  Y  "
      ]
     },
     "execution_count": 27,
     "metadata": {},
     "output_type": "execute_result"
    }
   ],
   "source": [
    "df.head()"
   ]
  },
  {
   "cell_type": "code",
   "execution_count": 28,
   "id": "235f039a",
   "metadata": {},
   "outputs": [],
   "source": [
    "df.drop('Application_ID', axis=1, inplace=True)"
   ]
  },
  {
   "cell_type": "code",
   "execution_count": 29,
   "id": "ecd1a28f",
   "metadata": {},
   "outputs": [
    {
     "data": {
      "text/html": [
       "<div>\n",
       "<style scoped>\n",
       "    .dataframe tbody tr th:only-of-type {\n",
       "        vertical-align: middle;\n",
       "    }\n",
       "\n",
       "    .dataframe tbody tr th {\n",
       "        vertical-align: top;\n",
       "    }\n",
       "\n",
       "    .dataframe thead th {\n",
       "        text-align: right;\n",
       "    }\n",
       "</style>\n",
       "<table border=\"1\" class=\"dataframe\">\n",
       "  <thead>\n",
       "    <tr style=\"text-align: right;\">\n",
       "      <th></th>\n",
       "      <th>Gender</th>\n",
       "      <th>Married</th>\n",
       "      <th>Dependents</th>\n",
       "      <th>Education</th>\n",
       "      <th>Self_Employed</th>\n",
       "      <th>Credit_History</th>\n",
       "      <th>Property_Area</th>\n",
       "      <th>Income</th>\n",
       "      <th>Application_Status</th>\n",
       "    </tr>\n",
       "  </thead>\n",
       "  <tbody>\n",
       "    <tr>\n",
       "      <th>0</th>\n",
       "      <td>Male</td>\n",
       "      <td>No</td>\n",
       "      <td>0</td>\n",
       "      <td>Graduate</td>\n",
       "      <td>No</td>\n",
       "      <td>1</td>\n",
       "      <td>Urban</td>\n",
       "      <td>medium</td>\n",
       "      <td>Y</td>\n",
       "    </tr>\n",
       "    <tr>\n",
       "      <th>1</th>\n",
       "      <td>Male</td>\n",
       "      <td>Yes</td>\n",
       "      <td>1</td>\n",
       "      <td>Graduate</td>\n",
       "      <td>No</td>\n",
       "      <td>1</td>\n",
       "      <td>Rural</td>\n",
       "      <td>medium</td>\n",
       "      <td>N</td>\n",
       "    </tr>\n",
       "    <tr>\n",
       "      <th>2</th>\n",
       "      <td>Male</td>\n",
       "      <td>Yes</td>\n",
       "      <td>0</td>\n",
       "      <td>Graduate</td>\n",
       "      <td>Yes</td>\n",
       "      <td>1</td>\n",
       "      <td>Urban</td>\n",
       "      <td>low</td>\n",
       "      <td>Y</td>\n",
       "    </tr>\n",
       "    <tr>\n",
       "      <th>3</th>\n",
       "      <td>Male</td>\n",
       "      <td>Yes</td>\n",
       "      <td>0</td>\n",
       "      <td>Not Graduate</td>\n",
       "      <td>No</td>\n",
       "      <td>1</td>\n",
       "      <td>Urban</td>\n",
       "      <td>low</td>\n",
       "      <td>Y</td>\n",
       "    </tr>\n",
       "    <tr>\n",
       "      <th>4</th>\n",
       "      <td>Male</td>\n",
       "      <td>No</td>\n",
       "      <td>0</td>\n",
       "      <td>Graduate</td>\n",
       "      <td>No</td>\n",
       "      <td>1</td>\n",
       "      <td>Urban</td>\n",
       "      <td>medium</td>\n",
       "      <td>Y</td>\n",
       "    </tr>\n",
       "  </tbody>\n",
       "</table>\n",
       "</div>"
      ],
      "text/plain": [
       "  Gender Married Dependents     Education Self_Employed  Credit_History  \\\n",
       "0   Male      No          0      Graduate            No               1   \n",
       "1   Male     Yes          1      Graduate            No               1   \n",
       "2   Male     Yes          0      Graduate           Yes               1   \n",
       "3   Male     Yes          0  Not Graduate            No               1   \n",
       "4   Male      No          0      Graduate            No               1   \n",
       "\n",
       "  Property_Area  Income Application_Status  \n",
       "0         Urban  medium                  Y  \n",
       "1         Rural  medium                  N  \n",
       "2         Urban     low                  Y  \n",
       "3         Urban     low                  Y  \n",
       "4         Urban  medium                  Y  "
      ]
     },
     "execution_count": 29,
     "metadata": {},
     "output_type": "execute_result"
    }
   ],
   "source": [
    "df.head()"
   ]
  },
  {
   "cell_type": "code",
   "execution_count": 30,
   "id": "e34d730f",
   "metadata": {},
   "outputs": [],
   "source": [
    "label_encoder = preprocessing.LabelEncoder()\n",
    "columns = ['Gender', 'Married', 'Dependents', 'Education', 'Self_Employed', 'Credit_History', 'Property_Area', 'Income', 'Application_Status']\n",
    "for col in columns:\n",
    "    df[col] = label_encoder.fit_transform(df[col])"
   ]
  },
  {
   "cell_type": "code",
   "execution_count": 31,
   "id": "c278042d",
   "metadata": {},
   "outputs": [
    {
     "data": {
      "text/plain": [
       "0      1\n",
       "1      0\n",
       "2      1\n",
       "3      1\n",
       "4      1\n",
       "      ..\n",
       "506    1\n",
       "507    1\n",
       "508    1\n",
       "509    1\n",
       "510    0\n",
       "Name: Application_Status, Length: 511, dtype: int32"
      ]
     },
     "execution_count": 31,
     "metadata": {},
     "output_type": "execute_result"
    }
   ],
   "source": [
    "y = df['Application_Status']\n",
    "y"
   ]
  },
  {
   "cell_type": "code",
   "execution_count": 32,
   "id": "748b6bb3",
   "metadata": {},
   "outputs": [
    {
     "data": {
      "text/html": [
       "<div>\n",
       "<style scoped>\n",
       "    .dataframe tbody tr th:only-of-type {\n",
       "        vertical-align: middle;\n",
       "    }\n",
       "\n",
       "    .dataframe tbody tr th {\n",
       "        vertical-align: top;\n",
       "    }\n",
       "\n",
       "    .dataframe thead th {\n",
       "        text-align: right;\n",
       "    }\n",
       "</style>\n",
       "<table border=\"1\" class=\"dataframe\">\n",
       "  <thead>\n",
       "    <tr style=\"text-align: right;\">\n",
       "      <th></th>\n",
       "      <th>Gender</th>\n",
       "      <th>Married</th>\n",
       "      <th>Dependents</th>\n",
       "      <th>Education</th>\n",
       "      <th>Self_Employed</th>\n",
       "      <th>Credit_History</th>\n",
       "      <th>Property_Area</th>\n",
       "      <th>Income</th>\n",
       "    </tr>\n",
       "  </thead>\n",
       "  <tbody>\n",
       "    <tr>\n",
       "      <th>0</th>\n",
       "      <td>1</td>\n",
       "      <td>0</td>\n",
       "      <td>0</td>\n",
       "      <td>0</td>\n",
       "      <td>0</td>\n",
       "      <td>1</td>\n",
       "      <td>2</td>\n",
       "      <td>2</td>\n",
       "    </tr>\n",
       "    <tr>\n",
       "      <th>1</th>\n",
       "      <td>1</td>\n",
       "      <td>1</td>\n",
       "      <td>1</td>\n",
       "      <td>0</td>\n",
       "      <td>0</td>\n",
       "      <td>1</td>\n",
       "      <td>0</td>\n",
       "      <td>2</td>\n",
       "    </tr>\n",
       "    <tr>\n",
       "      <th>2</th>\n",
       "      <td>1</td>\n",
       "      <td>1</td>\n",
       "      <td>0</td>\n",
       "      <td>0</td>\n",
       "      <td>1</td>\n",
       "      <td>1</td>\n",
       "      <td>2</td>\n",
       "      <td>1</td>\n",
       "    </tr>\n",
       "    <tr>\n",
       "      <th>3</th>\n",
       "      <td>1</td>\n",
       "      <td>1</td>\n",
       "      <td>0</td>\n",
       "      <td>1</td>\n",
       "      <td>0</td>\n",
       "      <td>1</td>\n",
       "      <td>2</td>\n",
       "      <td>1</td>\n",
       "    </tr>\n",
       "    <tr>\n",
       "      <th>4</th>\n",
       "      <td>1</td>\n",
       "      <td>0</td>\n",
       "      <td>0</td>\n",
       "      <td>0</td>\n",
       "      <td>0</td>\n",
       "      <td>1</td>\n",
       "      <td>2</td>\n",
       "      <td>2</td>\n",
       "    </tr>\n",
       "    <tr>\n",
       "      <th>...</th>\n",
       "      <td>...</td>\n",
       "      <td>...</td>\n",
       "      <td>...</td>\n",
       "      <td>...</td>\n",
       "      <td>...</td>\n",
       "      <td>...</td>\n",
       "      <td>...</td>\n",
       "      <td>...</td>\n",
       "    </tr>\n",
       "    <tr>\n",
       "      <th>506</th>\n",
       "      <td>0</td>\n",
       "      <td>0</td>\n",
       "      <td>0</td>\n",
       "      <td>0</td>\n",
       "      <td>0</td>\n",
       "      <td>1</td>\n",
       "      <td>0</td>\n",
       "      <td>1</td>\n",
       "    </tr>\n",
       "    <tr>\n",
       "      <th>507</th>\n",
       "      <td>1</td>\n",
       "      <td>1</td>\n",
       "      <td>3</td>\n",
       "      <td>0</td>\n",
       "      <td>0</td>\n",
       "      <td>1</td>\n",
       "      <td>0</td>\n",
       "      <td>2</td>\n",
       "    </tr>\n",
       "    <tr>\n",
       "      <th>508</th>\n",
       "      <td>1</td>\n",
       "      <td>1</td>\n",
       "      <td>1</td>\n",
       "      <td>0</td>\n",
       "      <td>0</td>\n",
       "      <td>1</td>\n",
       "      <td>2</td>\n",
       "      <td>2</td>\n",
       "    </tr>\n",
       "    <tr>\n",
       "      <th>509</th>\n",
       "      <td>1</td>\n",
       "      <td>1</td>\n",
       "      <td>2</td>\n",
       "      <td>0</td>\n",
       "      <td>0</td>\n",
       "      <td>1</td>\n",
       "      <td>2</td>\n",
       "      <td>2</td>\n",
       "    </tr>\n",
       "    <tr>\n",
       "      <th>510</th>\n",
       "      <td>0</td>\n",
       "      <td>0</td>\n",
       "      <td>0</td>\n",
       "      <td>0</td>\n",
       "      <td>1</td>\n",
       "      <td>0</td>\n",
       "      <td>1</td>\n",
       "      <td>2</td>\n",
       "    </tr>\n",
       "  </tbody>\n",
       "</table>\n",
       "<p>511 rows × 8 columns</p>\n",
       "</div>"
      ],
      "text/plain": [
       "     Gender  Married  Dependents  Education  Self_Employed  Credit_History  \\\n",
       "0         1        0           0          0              0               1   \n",
       "1         1        1           1          0              0               1   \n",
       "2         1        1           0          0              1               1   \n",
       "3         1        1           0          1              0               1   \n",
       "4         1        0           0          0              0               1   \n",
       "..      ...      ...         ...        ...            ...             ...   \n",
       "506       0        0           0          0              0               1   \n",
       "507       1        1           3          0              0               1   \n",
       "508       1        1           1          0              0               1   \n",
       "509       1        1           2          0              0               1   \n",
       "510       0        0           0          0              1               0   \n",
       "\n",
       "     Property_Area  Income  \n",
       "0                2       2  \n",
       "1                0       2  \n",
       "2                2       1  \n",
       "3                2       1  \n",
       "4                2       2  \n",
       "..             ...     ...  \n",
       "506              0       1  \n",
       "507              0       2  \n",
       "508              2       2  \n",
       "509              2       2  \n",
       "510              1       2  \n",
       "\n",
       "[511 rows x 8 columns]"
      ]
     },
     "execution_count": 32,
     "metadata": {},
     "output_type": "execute_result"
    }
   ],
   "source": [
    "X = df.drop('Application_Status', axis=1)\n",
    "X"
   ]
  },
  {
   "cell_type": "code",
   "execution_count": 33,
   "id": "7fa37788",
   "metadata": {},
   "outputs": [
    {
     "data": {
      "text/html": [
       "<div>\n",
       "<style scoped>\n",
       "    .dataframe tbody tr th:only-of-type {\n",
       "        vertical-align: middle;\n",
       "    }\n",
       "\n",
       "    .dataframe tbody tr th {\n",
       "        vertical-align: top;\n",
       "    }\n",
       "\n",
       "    .dataframe thead th {\n",
       "        text-align: right;\n",
       "    }\n",
       "</style>\n",
       "<table border=\"1\" class=\"dataframe\">\n",
       "  <thead>\n",
       "    <tr style=\"text-align: right;\">\n",
       "      <th></th>\n",
       "      <th>Gender</th>\n",
       "      <th>Married</th>\n",
       "      <th>Dependents</th>\n",
       "      <th>Education</th>\n",
       "      <th>Self_Employed</th>\n",
       "      <th>Credit_History</th>\n",
       "      <th>Property_Area</th>\n",
       "      <th>Income</th>\n",
       "      <th>Application_Status</th>\n",
       "    </tr>\n",
       "  </thead>\n",
       "  <tbody>\n",
       "    <tr>\n",
       "      <th>Gender</th>\n",
       "      <td>1.000000</td>\n",
       "      <td>0.363499</td>\n",
       "      <td>0.200692</td>\n",
       "      <td>0.044667</td>\n",
       "      <td>-0.007948</td>\n",
       "      <td>0.024682</td>\n",
       "      <td>-0.020576</td>\n",
       "      <td>0.060890</td>\n",
       "      <td>0.052533</td>\n",
       "    </tr>\n",
       "    <tr>\n",
       "      <th>Married</th>\n",
       "      <td>0.363499</td>\n",
       "      <td>1.000000</td>\n",
       "      <td>0.375597</td>\n",
       "      <td>-0.002516</td>\n",
       "      <td>0.019750</td>\n",
       "      <td>0.020519</td>\n",
       "      <td>0.029479</td>\n",
       "      <td>-0.019007</td>\n",
       "      <td>0.098560</td>\n",
       "    </tr>\n",
       "    <tr>\n",
       "      <th>Dependents</th>\n",
       "      <td>0.200692</td>\n",
       "      <td>0.375597</td>\n",
       "      <td>1.000000</td>\n",
       "      <td>0.039250</td>\n",
       "      <td>0.051180</td>\n",
       "      <td>-0.039492</td>\n",
       "      <td>-0.000748</td>\n",
       "      <td>0.075123</td>\n",
       "      <td>0.016984</td>\n",
       "    </tr>\n",
       "    <tr>\n",
       "      <th>Education</th>\n",
       "      <td>0.044667</td>\n",
       "      <td>-0.002516</td>\n",
       "      <td>0.039250</td>\n",
       "      <td>1.000000</td>\n",
       "      <td>-0.014796</td>\n",
       "      <td>-0.075720</td>\n",
       "      <td>-0.033095</td>\n",
       "      <td>-0.022029</td>\n",
       "      <td>-0.088699</td>\n",
       "    </tr>\n",
       "    <tr>\n",
       "      <th>Self_Employed</th>\n",
       "      <td>-0.007948</td>\n",
       "      <td>0.019750</td>\n",
       "      <td>0.051180</td>\n",
       "      <td>-0.014796</td>\n",
       "      <td>1.000000</td>\n",
       "      <td>-0.016306</td>\n",
       "      <td>-0.052259</td>\n",
       "      <td>-0.011734</td>\n",
       "      <td>-0.018705</td>\n",
       "    </tr>\n",
       "    <tr>\n",
       "      <th>Credit_History</th>\n",
       "      <td>0.024682</td>\n",
       "      <td>0.020519</td>\n",
       "      <td>-0.039492</td>\n",
       "      <td>-0.075720</td>\n",
       "      <td>-0.016306</td>\n",
       "      <td>1.000000</td>\n",
       "      <td>-0.003404</td>\n",
       "      <td>0.018913</td>\n",
       "      <td>0.545934</td>\n",
       "    </tr>\n",
       "    <tr>\n",
       "      <th>Property_Area</th>\n",
       "      <td>-0.020576</td>\n",
       "      <td>0.029479</td>\n",
       "      <td>-0.000748</td>\n",
       "      <td>-0.033095</td>\n",
       "      <td>-0.052259</td>\n",
       "      <td>-0.003404</td>\n",
       "      <td>1.000000</td>\n",
       "      <td>-0.079382</td>\n",
       "      <td>0.016778</td>\n",
       "    </tr>\n",
       "    <tr>\n",
       "      <th>Income</th>\n",
       "      <td>0.060890</td>\n",
       "      <td>-0.019007</td>\n",
       "      <td>0.075123</td>\n",
       "      <td>-0.022029</td>\n",
       "      <td>-0.011734</td>\n",
       "      <td>0.018913</td>\n",
       "      <td>-0.079382</td>\n",
       "      <td>1.000000</td>\n",
       "      <td>0.044086</td>\n",
       "    </tr>\n",
       "    <tr>\n",
       "      <th>Application_Status</th>\n",
       "      <td>0.052533</td>\n",
       "      <td>0.098560</td>\n",
       "      <td>0.016984</td>\n",
       "      <td>-0.088699</td>\n",
       "      <td>-0.018705</td>\n",
       "      <td>0.545934</td>\n",
       "      <td>0.016778</td>\n",
       "      <td>0.044086</td>\n",
       "      <td>1.000000</td>\n",
       "    </tr>\n",
       "  </tbody>\n",
       "</table>\n",
       "</div>"
      ],
      "text/plain": [
       "                      Gender   Married  Dependents  Education  Self_Employed  \\\n",
       "Gender              1.000000  0.363499    0.200692   0.044667      -0.007948   \n",
       "Married             0.363499  1.000000    0.375597  -0.002516       0.019750   \n",
       "Dependents          0.200692  0.375597    1.000000   0.039250       0.051180   \n",
       "Education           0.044667 -0.002516    0.039250   1.000000      -0.014796   \n",
       "Self_Employed      -0.007948  0.019750    0.051180  -0.014796       1.000000   \n",
       "Credit_History      0.024682  0.020519   -0.039492  -0.075720      -0.016306   \n",
       "Property_Area      -0.020576  0.029479   -0.000748  -0.033095      -0.052259   \n",
       "Income              0.060890 -0.019007    0.075123  -0.022029      -0.011734   \n",
       "Application_Status  0.052533  0.098560    0.016984  -0.088699      -0.018705   \n",
       "\n",
       "                    Credit_History  Property_Area    Income  \\\n",
       "Gender                    0.024682      -0.020576  0.060890   \n",
       "Married                   0.020519       0.029479 -0.019007   \n",
       "Dependents               -0.039492      -0.000748  0.075123   \n",
       "Education                -0.075720      -0.033095 -0.022029   \n",
       "Self_Employed            -0.016306      -0.052259 -0.011734   \n",
       "Credit_History            1.000000      -0.003404  0.018913   \n",
       "Property_Area            -0.003404       1.000000 -0.079382   \n",
       "Income                    0.018913      -0.079382  1.000000   \n",
       "Application_Status        0.545934       0.016778  0.044086   \n",
       "\n",
       "                    Application_Status  \n",
       "Gender                        0.052533  \n",
       "Married                       0.098560  \n",
       "Dependents                    0.016984  \n",
       "Education                    -0.088699  \n",
       "Self_Employed                -0.018705  \n",
       "Credit_History                0.545934  \n",
       "Property_Area                 0.016778  \n",
       "Income                        0.044086  \n",
       "Application_Status            1.000000  "
      ]
     },
     "execution_count": 33,
     "metadata": {},
     "output_type": "execute_result"
    }
   ],
   "source": [
    "df.corr()"
   ]
  },
  {
   "cell_type": "code",
   "execution_count": 34,
   "id": "03a75184",
   "metadata": {},
   "outputs": [],
   "source": [
    "df.drop(['Education','Self_Employed'],axis=1,inplace=True)"
   ]
  },
  {
   "cell_type": "code",
   "execution_count": 35,
   "id": "e9c41b0e",
   "metadata": {},
   "outputs": [],
   "source": [
    "X_train, X_val_test, y_train, y_val_test = train_test_split(X, y, test_size=0.4, random_state=69)"
   ]
  },
  {
   "cell_type": "code",
   "execution_count": 36,
   "id": "713693c3",
   "metadata": {},
   "outputs": [
    {
     "name": "stdout",
     "output_type": "stream",
     "text": [
      "(306, 8)\n",
      "(205, 8)\n",
      "(306,)\n",
      "(205,)\n"
     ]
    }
   ],
   "source": [
    "print(X_train.shape)\n",
    "print(X_val_test.shape)\n",
    "print(y_train.shape)\n",
    "print(y_val_test.shape)"
   ]
  },
  {
   "cell_type": "code",
   "execution_count": 37,
   "id": "03284492",
   "metadata": {},
   "outputs": [],
   "source": [
    "X_val, X_test, y_val, y_test = train_test_split(X_val_test, y_val_test, test_size=0.5, random_state=69)"
   ]
  },
  {
   "cell_type": "code",
   "execution_count": 38,
   "id": "bf9ab398",
   "metadata": {},
   "outputs": [
    {
     "name": "stdout",
     "output_type": "stream",
     "text": [
      "(102, 8)\n",
      "(103, 8)\n",
      "(102,)\n",
      "(103,)\n"
     ]
    }
   ],
   "source": [
    "print(X_val.shape)\n",
    "print(X_test.shape)\n",
    "print(y_val.shape)\n",
    "print(y_test.shape)"
   ]
  },
  {
   "cell_type": "code",
   "execution_count": 39,
   "id": "0f160db6",
   "metadata": {},
   "outputs": [],
   "source": [
    "from sklearn.metrics import mean_squared_error\n",
    "from sklearn.metrics import r2_score\n",
    "from sklearn.metrics import accuracy_score"
   ]
  },
  {
   "cell_type": "markdown",
   "id": "cc2594f2",
   "metadata": {},
   "source": [
    "### Logistic Regression "
   ]
  },
  {
   "cell_type": "code",
   "execution_count": 41,
   "id": "cad0ed2b",
   "metadata": {},
   "outputs": [],
   "source": [
    "from sklearn.linear_model import LogisticRegression\n",
    "regressor = LogisticRegression()\n",
    "regressor.fit(X_train, y_train)\n",
    "predicted= regressor.predict(X_test)"
   ]
  },
  {
   "cell_type": "code",
   "execution_count": 42,
   "id": "9646ef06",
   "metadata": {},
   "outputs": [
    {
     "name": "stdout",
     "output_type": "stream",
     "text": [
      "MSE_Score:   0.1941747572815534\n",
      "R2_Score:   0.13445378151260512\n",
      "Accuracy_Score:   0.8058252427184466\n"
     ]
    }
   ],
   "source": [
    "print('MSE_Score:  ', mean_squared_error(y_test, predicted))\n",
    "print('R2_Score:  ', r2_score(y_test, predicted))\n",
    "print('Accuracy_Score:  ', accuracy_score(y_test, predicted))"
   ]
  },
  {
   "cell_type": "markdown",
   "id": "ba1bbfd6",
   "metadata": {},
   "source": [
    "### XGB Regressor "
   ]
  },
  {
   "cell_type": "code",
   "execution_count": 44,
   "id": "cc87e294",
   "metadata": {},
   "outputs": [
    {
     "name": "stdout",
     "output_type": "stream",
     "text": [
      "89.73994048389183\n"
     ]
    }
   ],
   "source": [
    "import xgboost as xgb\n",
    "param = {\n",
    "    'max_depth': 7,\n",
    "    'eta': 0.05, \n",
    "    'objective': 'binary:hinge',\n",
    "    'eval_metric':\"mae\"}  \n",
    "    #'num_class': 2}  \n",
    "num_round = 100\n",
    "dtrain = xgb.DMatrix(X,y)\n",
    "bst = xgb.train(param,dtrain,num_round)\n",
    "preds = bst.predict(dtrain)\n",
    "from sklearn.metrics import precision_score\n",
    "print(precision_score(y, preds, average='macro')*100)"
   ]
  },
  {
   "cell_type": "code",
   "execution_count": 46,
   "id": "458d8a48",
   "metadata": {},
   "outputs": [
    {
     "name": "stdout",
     "output_type": "stream",
     "text": [
      "[0]\tvalidation_0-rmse:0.43106\tvalidation_0-mean_absolute_error:0.42530\n",
      "[1]\tvalidation_0-rmse:0.38926\tvalidation_0-mean_absolute_error:0.37081\n",
      "[2]\tvalidation_0-rmse:0.35824\tvalidation_0-mean_absolute_error:0.32666\n",
      "[3]\tvalidation_0-rmse:0.33981\tvalidation_0-mean_absolute_error:0.29497\n",
      "[4]\tvalidation_0-rmse:0.32781\tvalidation_0-mean_absolute_error:0.27096\n",
      "[5]\tvalidation_0-rmse:0.31948\tvalidation_0-mean_absolute_error:0.25342\n",
      "[6]\tvalidation_0-rmse:0.31269\tvalidation_0-mean_absolute_error:0.23988\n",
      "[7]\tvalidation_0-rmse:0.30882\tvalidation_0-mean_absolute_error:0.22926\n",
      "[8]\tvalidation_0-rmse:0.30345\tvalidation_0-mean_absolute_error:0.21957\n",
      "[9]\tvalidation_0-rmse:0.29997\tvalidation_0-mean_absolute_error:0.21309\n",
      "[10]\tvalidation_0-rmse:0.29795\tvalidation_0-mean_absolute_error:0.20781\n",
      "[11]\tvalidation_0-rmse:0.29581\tvalidation_0-mean_absolute_error:0.20334\n",
      "[12]\tvalidation_0-rmse:0.29453\tvalidation_0-mean_absolute_error:0.19989\n",
      "[13]\tvalidation_0-rmse:0.29306\tvalidation_0-mean_absolute_error:0.19746\n",
      "[14]\tvalidation_0-rmse:0.29026\tvalidation_0-mean_absolute_error:0.19437\n",
      "[15]\tvalidation_0-rmse:0.28751\tvalidation_0-mean_absolute_error:0.19035\n",
      "[16]\tvalidation_0-rmse:0.28479\tvalidation_0-mean_absolute_error:0.18679\n",
      "[17]\tvalidation_0-rmse:0.28352\tvalidation_0-mean_absolute_error:0.18404\n",
      "[18]\tvalidation_0-rmse:0.28172\tvalidation_0-mean_absolute_error:0.18217\n",
      "[19]\tvalidation_0-rmse:0.28012\tvalidation_0-mean_absolute_error:0.17958\n",
      "[20]\tvalidation_0-rmse:0.27933\tvalidation_0-mean_absolute_error:0.17812\n",
      "[21]\tvalidation_0-rmse:0.27855\tvalidation_0-mean_absolute_error:0.17702\n",
      "[22]\tvalidation_0-rmse:0.27805\tvalidation_0-mean_absolute_error:0.17644\n",
      "[23]\tvalidation_0-rmse:0.27693\tvalidation_0-mean_absolute_error:0.17398\n",
      "[24]\tvalidation_0-rmse:0.27598\tvalidation_0-mean_absolute_error:0.17207\n",
      "[25]\tvalidation_0-rmse:0.27461\tvalidation_0-mean_absolute_error:0.16991\n",
      "[26]\tvalidation_0-rmse:0.27369\tvalidation_0-mean_absolute_error:0.16844\n",
      "[27]\tvalidation_0-rmse:0.27318\tvalidation_0-mean_absolute_error:0.16794\n",
      "[28]\tvalidation_0-rmse:0.27253\tvalidation_0-mean_absolute_error:0.16681\n",
      "[29]\tvalidation_0-rmse:0.27216\tvalidation_0-mean_absolute_error:0.16607\n",
      "[30]\tvalidation_0-rmse:0.27169\tvalidation_0-mean_absolute_error:0.16493\n",
      "[31]\tvalidation_0-rmse:0.27155\tvalidation_0-mean_absolute_error:0.16433\n",
      "[32]\tvalidation_0-rmse:0.27131\tvalidation_0-mean_absolute_error:0.16376\n",
      "[33]\tvalidation_0-rmse:0.27094\tvalidation_0-mean_absolute_error:0.16305\n",
      "[34]\tvalidation_0-rmse:0.27049\tvalidation_0-mean_absolute_error:0.16171\n",
      "[35]\tvalidation_0-rmse:0.27025\tvalidation_0-mean_absolute_error:0.16092\n",
      "[36]\tvalidation_0-rmse:0.27009\tvalidation_0-mean_absolute_error:0.16048\n",
      "[37]\tvalidation_0-rmse:0.26986\tvalidation_0-mean_absolute_error:0.16001\n",
      "[38]\tvalidation_0-rmse:0.26959\tvalidation_0-mean_absolute_error:0.15880\n",
      "[39]\tvalidation_0-rmse:0.26938\tvalidation_0-mean_absolute_error:0.15808\n",
      "[40]\tvalidation_0-rmse:0.26914\tvalidation_0-mean_absolute_error:0.15756\n",
      "[41]\tvalidation_0-rmse:0.26900\tvalidation_0-mean_absolute_error:0.15706\n",
      "[42]\tvalidation_0-rmse:0.26891\tvalidation_0-mean_absolute_error:0.15656\n",
      "[43]\tvalidation_0-rmse:0.26875\tvalidation_0-mean_absolute_error:0.15592\n",
      "[44]\tvalidation_0-rmse:0.26858\tvalidation_0-mean_absolute_error:0.15524\n",
      "[45]\tvalidation_0-rmse:0.26851\tvalidation_0-mean_absolute_error:0.15482\n",
      "[46]\tvalidation_0-rmse:0.26838\tvalidation_0-mean_absolute_error:0.15424\n",
      "[47]\tvalidation_0-rmse:0.26827\tvalidation_0-mean_absolute_error:0.15395\n",
      "[48]\tvalidation_0-rmse:0.26815\tvalidation_0-mean_absolute_error:0.15365\n",
      "[49]\tvalidation_0-rmse:0.26806\tvalidation_0-mean_absolute_error:0.15319\n",
      "[50]\tvalidation_0-rmse:0.26796\tvalidation_0-mean_absolute_error:0.15271\n",
      "[51]\tvalidation_0-rmse:0.26789\tvalidation_0-mean_absolute_error:0.15229\n",
      "[52]\tvalidation_0-rmse:0.26783\tvalidation_0-mean_absolute_error:0.15191\n",
      "[53]\tvalidation_0-rmse:0.26778\tvalidation_0-mean_absolute_error:0.15150\n",
      "[54]\tvalidation_0-rmse:0.26770\tvalidation_0-mean_absolute_error:0.15098\n",
      "[55]\tvalidation_0-rmse:0.26763\tvalidation_0-mean_absolute_error:0.15062\n",
      "[56]\tvalidation_0-rmse:0.26759\tvalidation_0-mean_absolute_error:0.15032\n",
      "[57]\tvalidation_0-rmse:0.26756\tvalidation_0-mean_absolute_error:0.15007\n",
      "[58]\tvalidation_0-rmse:0.26753\tvalidation_0-mean_absolute_error:0.14988\n",
      "[59]\tvalidation_0-rmse:0.26750\tvalidation_0-mean_absolute_error:0.14955\n",
      "[60]\tvalidation_0-rmse:0.26748\tvalidation_0-mean_absolute_error:0.14945\n",
      "[61]\tvalidation_0-rmse:0.26745\tvalidation_0-mean_absolute_error:0.14929\n",
      "[62]\tvalidation_0-rmse:0.26743\tvalidation_0-mean_absolute_error:0.14910\n",
      "[63]\tvalidation_0-rmse:0.26742\tvalidation_0-mean_absolute_error:0.14903\n",
      "[64]\tvalidation_0-rmse:0.26739\tvalidation_0-mean_absolute_error:0.14899\n",
      "[65]\tvalidation_0-rmse:0.26737\tvalidation_0-mean_absolute_error:0.14874\n",
      "[66]\tvalidation_0-rmse:0.26733\tvalidation_0-mean_absolute_error:0.14850\n",
      "[67]\tvalidation_0-rmse:0.26731\tvalidation_0-mean_absolute_error:0.14834\n",
      "[68]\tvalidation_0-rmse:0.26729\tvalidation_0-mean_absolute_error:0.14817\n",
      "[69]\tvalidation_0-rmse:0.26727\tvalidation_0-mean_absolute_error:0.14814\n",
      "[70]\tvalidation_0-rmse:0.26725\tvalidation_0-mean_absolute_error:0.14796\n",
      "[71]\tvalidation_0-rmse:0.26724\tvalidation_0-mean_absolute_error:0.14790\n",
      "[72]\tvalidation_0-rmse:0.26723\tvalidation_0-mean_absolute_error:0.14771\n",
      "[73]\tvalidation_0-rmse:0.26722\tvalidation_0-mean_absolute_error:0.14758\n",
      "[74]\tvalidation_0-rmse:0.26720\tvalidation_0-mean_absolute_error:0.14749\n",
      "[75]\tvalidation_0-rmse:0.26718\tvalidation_0-mean_absolute_error:0.14743\n",
      "[76]\tvalidation_0-rmse:0.26717\tvalidation_0-mean_absolute_error:0.14723\n",
      "[77]\tvalidation_0-rmse:0.26716\tvalidation_0-mean_absolute_error:0.14711\n",
      "[78]\tvalidation_0-rmse:0.26715\tvalidation_0-mean_absolute_error:0.14701\n",
      "[79]\tvalidation_0-rmse:0.26715\tvalidation_0-mean_absolute_error:0.14689\n",
      "[80]\tvalidation_0-rmse:0.26714\tvalidation_0-mean_absolute_error:0.14685\n",
      "[81]\tvalidation_0-rmse:0.26712\tvalidation_0-mean_absolute_error:0.14664\n",
      "[82]\tvalidation_0-rmse:0.26712\tvalidation_0-mean_absolute_error:0.14660\n",
      "[83]\tvalidation_0-rmse:0.26711\tvalidation_0-mean_absolute_error:0.14641\n",
      "[84]\tvalidation_0-rmse:0.26710\tvalidation_0-mean_absolute_error:0.14630\n",
      "[85]\tvalidation_0-rmse:0.26709\tvalidation_0-mean_absolute_error:0.14617\n",
      "[86]\tvalidation_0-rmse:0.26708\tvalidation_0-mean_absolute_error:0.14609\n",
      "[87]\tvalidation_0-rmse:0.26708\tvalidation_0-mean_absolute_error:0.14604\n",
      "[88]\tvalidation_0-rmse:0.26707\tvalidation_0-mean_absolute_error:0.14595\n",
      "[89]\tvalidation_0-rmse:0.26707\tvalidation_0-mean_absolute_error:0.14589\n",
      "[90]\tvalidation_0-rmse:0.26706\tvalidation_0-mean_absolute_error:0.14584\n",
      "[91]\tvalidation_0-rmse:0.26706\tvalidation_0-mean_absolute_error:0.14580\n",
      "[92]\tvalidation_0-rmse:0.26706\tvalidation_0-mean_absolute_error:0.14579\n",
      "[93]\tvalidation_0-rmse:0.26706\tvalidation_0-mean_absolute_error:0.14579\n",
      "[94]\tvalidation_0-rmse:0.26706\tvalidation_0-mean_absolute_error:0.14579\n",
      "[95]\tvalidation_0-rmse:0.26706\tvalidation_0-mean_absolute_error:0.14579\n",
      "[96]\tvalidation_0-rmse:0.26706\tvalidation_0-mean_absolute_error:0.14579\n",
      "[97]\tvalidation_0-rmse:0.26706\tvalidation_0-mean_absolute_error:0.14579\n",
      "[98]\tvalidation_0-rmse:0.26706\tvalidation_0-mean_absolute_error:0.14579\n",
      "[99]\tvalidation_0-rmse:0.26706\tvalidation_0-mean_absolute_error:0.14579\n"
     ]
    },
    {
     "data": {
      "text/plain": [
       "0.8058252427184466"
      ]
     },
     "execution_count": 46,
     "metadata": {},
     "output_type": "execute_result"
    }
   ],
   "source": [
    "from sklearn.metrics import mean_absolute_error\n",
    "X = X_train\n",
    "y = y_train\n",
    "reg = xgb.XGBRegressor(\n",
    "    tree_method=\"hist\",\n",
    "    eval_metric=mean_absolute_error,\n",
    "    \n",
    ")\n",
    "reg.fit(X, y, eval_set=[(X, y)])\n",
    "predicted = regressor.predict(X_test)\n",
    "accuracy_score(y_test, predicted)"
   ]
  },
  {
   "cell_type": "code",
   "execution_count": 48,
   "id": "b483dd46",
   "metadata": {},
   "outputs": [],
   "source": [
    "params = {'objective':'binary:hinge'}\n",
    "regressor = xgb.XGBRegressor(objective='binary:hinge',max_depth=5,n_estimators=50,eval_metric=\"rmse\",\n",
    "                             learning_rate=0.03,\n",
    "                            sampling_method='uniform')\n",
    "\n",
    "regressor.fit(X_train, y_train)\n",
    "predicted = regressor.predict(X_test)"
   ]
  },
  {
   "cell_type": "code",
   "execution_count": 49,
   "id": "e48bd403",
   "metadata": {},
   "outputs": [
    {
     "name": "stdout",
     "output_type": "stream",
     "text": [
      "MSE_Score:   0.24271844660194175\n",
      "R2_Score:   -0.08193277310924363\n",
      "Accuracy_Score:   0.7572815533980582\n"
     ]
    }
   ],
   "source": [
    "print('MSE_Score:  ', mean_squared_error(y_test, predicted))\n",
    "print('R2_Score:  ', r2_score(y_test, predicted))\n",
    "print('Accuracy_Score:  ', accuracy_score(y_test, predicted))"
   ]
  }
 ],
 "metadata": {
  "kernelspec": {
   "display_name": "Python 3",
   "language": "python",
   "name": "python3"
  },
  "language_info": {
   "codemirror_mode": {
    "name": "ipython",
    "version": 3
   },
   "file_extension": ".py",
   "mimetype": "text/x-python",
   "name": "python",
   "nbconvert_exporter": "python",
   "pygments_lexer": "ipython3",
   "version": "3.9.1"
  }
 },
 "nbformat": 4,
 "nbformat_minor": 5
}
